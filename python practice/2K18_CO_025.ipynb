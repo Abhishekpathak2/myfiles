{
 "cells": [
  {
   "cell_type": "code",
   "execution_count": 21,
   "metadata": {},
   "outputs": [],
   "source": [
    "from sklearn import preprocessing\n",
    "import pandas as pd\n",
    "from numpy import set_printoptions\n",
    "from sklearn.preprocessing import Normalizer"
   ]
  },
  {
   "cell_type": "code",
   "execution_count": 22,
   "metadata": {},
   "outputs": [],
   "source": [
    "iris_df = pd.read_csv('https://raw.githubusercontent.com/ammishra08/MachineLearning/master/Datasets/iris.csv')\n",
    "iris_temp = iris_df\n",
    "iris_temp=iris_temp.drop(columns=['species'])\n",
    "array = iris_temp.values"
   ]
  },
  {
   "cell_type": "code",
   "execution_count": 23,
   "metadata": {},
   "outputs": [],
   "source": [
    "Data_normalizer = Normalizer(norm='l1').fit(array)\n",
    "Data_normalized = Data_normalizer.transform(array)"
   ]
  },
  {
   "cell_type": "code",
   "execution_count": 24,
   "metadata": {
    "scrolled": true
   },
   "outputs": [
    {
     "name": "stdout",
     "output_type": "stream",
     "text": [
      "\n",
      "Normalized data:\n",
      " [[0.5  0.34 0.14 0.02]\n",
      " [0.52 0.32 0.15 0.02]\n",
      " [0.5  0.34 0.14 0.02]\n",
      " [0.49 0.33 0.16 0.02]\n",
      " [0.49 0.35 0.14 0.02]]\n"
     ]
    }
   ],
   "source": [
    "set_printoptions(precision=2)\n",
    "print (\"\\nNormalized data:\\n\", Data_normalized [0:5])"
   ]
  },
  {
   "cell_type": "code",
   "execution_count": 25,
   "metadata": {},
   "outputs": [],
   "source": [
    "Data_normalizer = Normalizer(norm='l2').fit(array)\n",
    "Data_normalized = Data_normalizer.transform(array)"
   ]
  },
  {
   "cell_type": "code",
   "execution_count": 26,
   "metadata": {},
   "outputs": [
    {
     "name": "stdout",
     "output_type": "stream",
     "text": [
      "\n",
      "Normalized data:\n",
      " [[0.8  0.55 0.22 0.03]\n",
      " [0.83 0.51 0.24 0.03]\n",
      " [0.81 0.55 0.22 0.03]\n",
      " [0.8  0.54 0.26 0.03]\n",
      " [0.79 0.57 0.22 0.03]]\n"
     ]
    }
   ],
   "source": [
    "set_printoptions(precision=2)\n",
    "print (\"\\nNormalized data:\\n\", Data_normalized [0:5])"
   ]
  }
 ],
 "metadata": {
  "kernelspec": {
   "display_name": "Python 3",
   "language": "python",
   "name": "python3"
  },
  "language_info": {
   "codemirror_mode": {
    "name": "ipython",
    "version": 3
   },
   "file_extension": ".py",
   "mimetype": "text/x-python",
   "name": "python",
   "nbconvert_exporter": "python",
   "pygments_lexer": "ipython3",
   "version": "3.8.3"
  }
 },
 "nbformat": 4,
 "nbformat_minor": 4
}
