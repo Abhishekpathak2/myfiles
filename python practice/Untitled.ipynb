{
 "cells": [
  {
   "cell_type": "code",
   "execution_count": 6,
   "metadata": {},
   "outputs": [],
   "source": [
    "import os\n",
    "import pandas as pd\n",
    "import tensorflow as tf\n",
    "import tensorflow_hub as hub\n",
    "import matplotlib.pyplot as plt\n",
    "from six import BytesIO\n",
    "import numpy as np\n",
    "import xml.etree.ElementTree as et\n",
    "import ast\n",
    "import tqdm\n",
    "from itertools import chain\n",
    "from xml.dom import minidom\n",
    "from PIL import Image\n",
    "from PIL import ImageColor\n",
    "from PIL import ImageDraw\n",
    "from PIL import ImageFont\n",
    "from PIL import ImageOps\n",
    "import cv2\n",
    "import glob\n",
    "import time"
   ]
  },
  {
   "cell_type": "code",
   "execution_count": 10,
   "metadata": {},
   "outputs": [
    {
     "data": {
      "text/html": [
       "<div>\n",
       "<style scoped>\n",
       "    .dataframe tbody tr th:only-of-type {\n",
       "        vertical-align: middle;\n",
       "    }\n",
       "\n",
       "    .dataframe tbody tr th {\n",
       "        vertical-align: top;\n",
       "    }\n",
       "\n",
       "    .dataframe thead th {\n",
       "        text-align: right;\n",
       "    }\n",
       "</style>\n",
       "<table border=\"1\" class=\"dataframe\">\n",
       "  <thead>\n",
       "    <tr style=\"text-align: right;\">\n",
       "      <th></th>\n",
       "      <th>ImageId</th>\n",
       "      <th>PredictionString</th>\n",
       "    </tr>\n",
       "  </thead>\n",
       "  <tbody>\n",
       "    <tr>\n",
       "      <th>0</th>\n",
       "      <td>b5d912e06f74e948</td>\n",
       "      <td>/m/05s2s 0.9 0.46 0.08 0.93 0.5 /m/0c9ph5 0.5 ...</td>\n",
       "    </tr>\n",
       "    <tr>\n",
       "      <th>1</th>\n",
       "      <td>be137cf6bb0b62d5</td>\n",
       "      <td>/m/05s2s 0.9 0.46 0.08 0.93 0.5 /m/0c9ph5 0.5 ...</td>\n",
       "    </tr>\n",
       "    <tr>\n",
       "      <th>2</th>\n",
       "      <td>8d65ca08cb5ce8e8</td>\n",
       "      <td>/m/05s2s 0.9 0.46 0.08 0.93 0.5 /m/0c9ph5 0.5 ...</td>\n",
       "    </tr>\n",
       "    <tr>\n",
       "      <th>3</th>\n",
       "      <td>4d3ad1e52ad8c065</td>\n",
       "      <td>/m/05s2s 0.9 0.46 0.08 0.93 0.5 /m/0c9ph5 0.5 ...</td>\n",
       "    </tr>\n",
       "    <tr>\n",
       "      <th>4</th>\n",
       "      <td>9b94408691c7d7bf</td>\n",
       "      <td>/m/05s2s 0.9 0.46 0.08 0.93 0.5 /m/0c9ph5 0.5 ...</td>\n",
       "    </tr>\n",
       "  </tbody>\n",
       "</table>\n",
       "</div>"
      ],
      "text/plain": [
       "            ImageId                                   PredictionString\n",
       "0  b5d912e06f74e948  /m/05s2s 0.9 0.46 0.08 0.93 0.5 /m/0c9ph5 0.5 ...\n",
       "1  be137cf6bb0b62d5  /m/05s2s 0.9 0.46 0.08 0.93 0.5 /m/0c9ph5 0.5 ...\n",
       "2  8d65ca08cb5ce8e8  /m/05s2s 0.9 0.46 0.08 0.93 0.5 /m/0c9ph5 0.5 ...\n",
       "3  4d3ad1e52ad8c065  /m/05s2s 0.9 0.46 0.08 0.93 0.5 /m/0c9ph5 0.5 ...\n",
       "4  9b94408691c7d7bf  /m/05s2s 0.9 0.46 0.08 0.93 0.5 /m/0c9ph5 0.5 ..."
      ]
     },
     "execution_count": 10,
     "metadata": {},
     "output_type": "execute_result"
    }
   ],
   "source": [
    "sample = pd.read_csv(\"/home/abhi/Desktop/sample_submission.csv\")\n",
    "sample.head()"
   ]
  },
  {
   "cell_type": "code",
   "execution_count": 11,
   "metadata": {},
   "outputs": [
    {
     "data": {
      "text/plain": [
       "(99999, 2)"
      ]
     },
     "execution_count": 11,
     "metadata": {},
     "output_type": "execute_result"
    }
   ],
   "source": [
    "sample.shape\n"
   ]
  },
  {
   "cell_type": "code",
   "execution_count": 15,
   "metadata": {},
   "outputs": [],
   "source": [
    "ids = []\n",
    "for i in range(len(sample)):\n",
    "    ids.append(sample['ImageId'][i])"
   ]
  },
  {
   "cell_type": "code",
   "execution_count": 19,
   "metadata": {},
   "outputs": [],
   "source": [
    "img_data=[]\n",
    "for i in range(len(sample)):\n",
    "    img_data.append(glob.glob('/home/abhi/pictures/{0}.jpg'.format(ids[i])))"
   ]
  },
  {
   "cell_type": "code",
   "execution_count": 20,
   "metadata": {},
   "outputs": [
    {
     "data": {
      "text/plain": [
       "['b5d912e06f74e948',\n",
       " 'be137cf6bb0b62d5',\n",
       " '8d65ca08cb5ce8e8',\n",
       " '4d3ad1e52ad8c065',\n",
       " '9b94408691c7d7bf']"
      ]
     },
     "execution_count": 20,
     "metadata": {},
     "output_type": "execute_result"
    }
   ],
   "source": [
    "ids[:5]"
   ]
  },
  {
   "cell_type": "code",
   "execution_count": 21,
   "metadata": {},
   "outputs": [],
   "source": [
    "img_data=list(chain.from_iterable(img_data))"
   ]
  },
  {
   "cell_type": "code",
   "execution_count": 22,
   "metadata": {},
   "outputs": [],
   "source": [
    "def get_prediction_string(result):\n",
    "    with tf.device('/device:GPU:0'):\n",
    "        df = pd.DataFrame(columns=['Ymin','Xmin','Ymax', 'Xmax','Score','Label','Class_label','Class_name'])\n",
    "        min_score=0.01\n",
    "        for i in range(result['detection_boxes'].shape[0]):\n",
    "           if (result[\"detection_scores\"][i]) >= min_score:\n",
    "              df.loc[i]= tuple(result['detection_boxes'][i])+(result[\"detection_scores\"][i],)+(result[\"detection_class_labels\"][i],)+(result[\"detection_class_names\"][i],)+(result[\"detection_class_entities\"][i],)\n",
    "        return df\n"
   ]
  },
  {
   "cell_type": "code",
   "execution_count": 23,
   "metadata": {},
   "outputs": [
    {
     "name": "stdout",
     "output_type": "stream",
     "text": [
      "WARNING:tensorflow:From /home/abhi/anaconda3/lib/python3.8/site-packages/tensorflow/python/compat/v2_compat.py:96: disable_resource_variables (from tensorflow.python.ops.variable_scope) is deprecated and will be removed in a future version.\n",
      "Instructions for updating:\n",
      "non-resource variables are not supported in the long term\n"
     ]
    }
   ],
   "source": [
    "import tensorflow.compat.v1 as tf\n",
    "tf.disable_v2_behavior()"
   ]
  },
  {
   "cell_type": "code",
   "execution_count": 25,
   "metadata": {},
   "outputs": [
    {
     "name": "stdout",
     "output_type": "stream",
     "text": [
      "INFO:tensorflow:Saver not created because there are no variables in the graph to restore\n"
     ]
    },
    {
     "name": "stderr",
     "output_type": "stream",
     "text": [
      "INFO:tensorflow:Saver not created because there are no variables in the graph to restore\n"
     ]
    },
    {
     "name": "stdout",
     "output_type": "stream",
     "text": [
      "INFO:tensorflow:Saver not created because there are no variables in the graph to restore\n"
     ]
    },
    {
     "name": "stderr",
     "output_type": "stream",
     "text": [
      "INFO:tensorflow:Saver not created because there are no variables in the graph to restore\n"
     ]
    }
   ],
   "source": [
    "module_handle = \"https://tfhub.dev/google/faster_rcnn/openimages_v4/inception_resnet_v2/1\"\n",
    "with tf.device('/device:GPU:0'):\n",
    "    with tf.Graph().as_default():\n",
    "        detector = hub.Module(module_handle)\n",
    "        image_string_placeholder = tf.placeholder(tf.string)\n",
    "        decoded_image = tf.image.decode_jpeg(image_string_placeholder)\n",
    "        decoded_image_float = tf.image.convert_image_dtype(\n",
    "            image=decoded_image, dtype=tf.float32)\n",
    "        module_input = tf.expand_dims(decoded_image_float, 0)\n",
    "        result = detector(module_input, as_dict=True)\n",
    "        init_ops = [tf.global_variables_initializer(), tf.tables_initializer()]\n",
    "\n",
    "        session = tf.Session()\n",
    "        session.run(init_ops)"
   ]
  },
  {
   "cell_type": "code",
   "execution_count": 26,
   "metadata": {},
   "outputs": [],
   "source": [
    "def nms(dets, thresh):\n",
    "    x1 = dets[:, 0]\n",
    "    y1 = dets[:, 1]\n",
    "    x2 = dets[:, 2]\n",
    "    y2 = dets[:, 3]\n",
    "    scores = dets[:, 4]\n",
    "\n",
    "    areas = (x2 - x1 + 1) * (y2 - y1 + 1)\n",
    "    order = scores.argsort()[::-1]\n",
    "\n",
    "    keep = []\n",
    "    while order.size > 0:\n",
    "        i = order[0]\n",
    "        keep.append(i)\n",
    "        xx1 = np.maximum(x1[i], x1[order[1:]])\n",
    "        yy1 = np.maximum(y1[i], y1[order[1:]])\n",
    "        xx2 = np.minimum(x2[i], x2[order[1:]])\n",
    "        yy2 = np.minimum(y2[i], y2[order[1:]])\n",
    "\n",
    "        w = np.maximum(0.0, xx2 - xx1 + 1)\n",
    "        h = np.maximum(0.0, yy2 - yy1 + 1)\n",
    "        inter = w * h\n",
    "        ovr = inter / (areas[i] + areas[order[1:]] - inter)\n",
    "\n",
    "        inds = np.where(ovr <= thresh)[0]\n",
    "        order = order[inds + 1]\n",
    "\n",
    "    return keep"
   ]
  },
  {
   "cell_type": "code",
   "execution_count": 27,
   "metadata": {},
   "outputs": [],
   "source": [
    "image_paths = img_data[0:1]"
   ]
  },
  {
   "cell_type": "code",
   "execution_count": 28,
   "metadata": {},
   "outputs": [],
   "source": [
    "images = []\n",
    "for f in image_paths:\n",
    "    images.append(np.asarray(Image.open(f)))"
   ]
  },
  {
   "cell_type": "code",
   "execution_count": 29,
   "metadata": {},
   "outputs": [],
   "source": [
    "!mkdir deepak"
   ]
  },
  {
   "cell_type": "code",
   "execution_count": 30,
   "metadata": {},
   "outputs": [],
   "source": [
    "image_id = sample['ImageId']\n",
    "def format_prediction_string(image_id, result):\n",
    "    prediction_strings = []\n",
    "    \n",
    "    for i in range(len(result['Score'])):\n",
    "        class_name = result['Class_label'][i].decode(\"utf-8\")\n",
    "        YMin,XMin,YMax,XMax = result['Ymin'][i],result['Xmin'][i],result['Ymax'][i],result['Xmax'][i]\n",
    "        score = result['Score'][i]\n",
    "        \n",
    "        prediction_strings.append(\n",
    "            f\"{class_name} {score} {XMin} {YMin} {XMax} {YMax}\"\n",
    "        )\n",
    "        \n",
    "    prediction_string = \" \".join(prediction_strings)\n",
    "\n",
    "    return {\n",
    "        \"PredictionString\": prediction_string\n",
    "    }"
   ]
  },
  {
   "cell_type": "code",
   "execution_count": null,
   "metadata": {},
   "outputs": [],
   "source": [
    "k =-1\n",
    "predictions = []\n",
    "with tf.device('/device:GPU:0'):\n",
    "    for image_path in image_paths:\n",
    "        k=k+1\n",
    "        img_path = img_data[k]\n",
    "        img = cv2.imread(img_path)\n",
    "        with tf.gfile.Open(image_path, \"rb\") as binfile:\n",
    "            image_string = binfile.read()\n",
    "\n",
    "        inference_start_time = time.time()\n",
    "        result_out, image_out = session.run(\n",
    "            [result, decoded_image],\n",
    "            feed_dict={image_string_placeholder: image_string})\n",
    "        df1=get_prediction_string(result_out)\n",
    "        z1=nms(df1.values,0.68)\n",
    "        z=df1.iloc[z1]\n",
    "        z=z.reset_index()\n",
    "        predictions.append(format_prediction_string(image_id, z))\n",
    "        data1=z\n",
    "        COLORS = np.random.uniform(0, 255, size=(len(z['Class_name']), 3))\n",
    "        for m in range(len(data1)):\n",
    "            if data1['Score'][m] >=0.01:\n",
    "                img_class=data1.iloc[m].Class_name\n",
    "                img_xmax, img_ymax =images[k].shape[1],images[k].shape[0]\n",
    "                bbox_x_max, bbox_x_min = data1.Xmax[m] * img_xmax, data1.Xmin[m] * img_xmax\n",
    "                bbox_y_max ,bbox_y_min = data1.Ymax[m] * img_ymax, data1.Ymin[m] * img_ymax\n",
    "                xmin = int(bbox_x_min)\n",
    "                ymin = int(bbox_y_min)\n",
    "                xmax = int(bbox_x_max)\n",
    "                ymax = int(bbox_y_max)\n",
    "                width = xmax - xmin\n",
    "                height = ymax - ymin\n",
    "                label = str(data1['Class_name'][m])\n",
    "                color = COLORS[m]\n",
    "                cv2.rectangle(img, (xmin, ymax), (xmax, ymin), color, 2)\n",
    "                path1 = '/kaggle/working/deepak/'+str(k)+'.jpg'\n",
    "                img_path = path1\n",
    "                cv2.imwrite(path1, img)\n",
    "                cv2.putText(img, label, (xmax,ymin), cv2.FONT_HERSHEY_SIMPLEX, 0.9,color, 2)"
   ]
  },
  {
   "cell_type": "code",
   "execution_count": 35,
   "metadata": {},
   "outputs": [],
   "source": [
    "def load_images(folder):\n",
    "    images = []\n",
    "    for filename in os.listdir(folder):\n",
    "        img = Image.open(\"/home/abhi/pictures\")\n",
    "        if img is not None:\n",
    "            images.append(img)\n",
    "    return images"
   ]
  },
  {
   "cell_type": "code",
   "execution_count": 36,
   "metadata": {},
   "outputs": [
    {
     "ename": "FileNotFoundError",
     "evalue": "[Errno 2] No such file or directory: '/home/abhi/pictures'",
     "output_type": "error",
     "traceback": [
      "\u001b[0;31m---------------------------------------------------------------------------\u001b[0m",
      "\u001b[0;31mFileNotFoundError\u001b[0m                         Traceback (most recent call last)",
      "\u001b[0;32m<ipython-input-36-28571bf83ac8>\u001b[0m in \u001b[0;36m<module>\u001b[0;34m\u001b[0m\n\u001b[0;32m----> 1\u001b[0;31m \u001b[0mz\u001b[0m \u001b[0;34m=\u001b[0m \u001b[0mload_images\u001b[0m\u001b[0;34m(\u001b[0m\u001b[0;34m\"/home/abhi/pictures\"\u001b[0m\u001b[0;34m)\u001b[0m\u001b[0;34m\u001b[0m\u001b[0;34m\u001b[0m\u001b[0m\n\u001b[0m",
      "\u001b[0;32m<ipython-input-35-ca95bb989298>\u001b[0m in \u001b[0;36mload_images\u001b[0;34m(folder)\u001b[0m\n\u001b[1;32m      1\u001b[0m \u001b[0;32mdef\u001b[0m \u001b[0mload_images\u001b[0m\u001b[0;34m(\u001b[0m\u001b[0mfolder\u001b[0m\u001b[0;34m)\u001b[0m\u001b[0;34m:\u001b[0m\u001b[0;34m\u001b[0m\u001b[0;34m\u001b[0m\u001b[0m\n\u001b[1;32m      2\u001b[0m     \u001b[0mimages\u001b[0m \u001b[0;34m=\u001b[0m \u001b[0;34m[\u001b[0m\u001b[0;34m]\u001b[0m\u001b[0;34m\u001b[0m\u001b[0;34m\u001b[0m\u001b[0m\n\u001b[0;32m----> 3\u001b[0;31m     \u001b[0;32mfor\u001b[0m \u001b[0mfilename\u001b[0m \u001b[0;32min\u001b[0m \u001b[0mos\u001b[0m\u001b[0;34m.\u001b[0m\u001b[0mlistdir\u001b[0m\u001b[0;34m(\u001b[0m\u001b[0mfolder\u001b[0m\u001b[0;34m)\u001b[0m\u001b[0;34m:\u001b[0m\u001b[0;34m\u001b[0m\u001b[0;34m\u001b[0m\u001b[0m\n\u001b[0m\u001b[1;32m      4\u001b[0m         \u001b[0mimg\u001b[0m \u001b[0;34m=\u001b[0m \u001b[0mImage\u001b[0m\u001b[0;34m.\u001b[0m\u001b[0mopen\u001b[0m\u001b[0;34m(\u001b[0m\u001b[0;34m\"/home/abhi/pictures\"\u001b[0m\u001b[0;34m)\u001b[0m\u001b[0;34m\u001b[0m\u001b[0;34m\u001b[0m\u001b[0m\n\u001b[1;32m      5\u001b[0m         \u001b[0;32mif\u001b[0m \u001b[0mimg\u001b[0m \u001b[0;32mis\u001b[0m \u001b[0;32mnot\u001b[0m \u001b[0;32mNone\u001b[0m\u001b[0;34m:\u001b[0m\u001b[0;34m\u001b[0m\u001b[0;34m\u001b[0m\u001b[0m\n",
      "\u001b[0;31mFileNotFoundError\u001b[0m: [Errno 2] No such file or directory: '/home/abhi/pictures'"
     ]
    }
   ],
   "source": [
    "z = load_images(\"/kaggle/working/deepak\")"
   ]
  },
  {
   "cell_type": "code",
   "execution_count": null,
   "metadata": {},
   "outputs": [],
   "source": [
    "z[0]"
   ]
  },
  {
   "cell_type": "code",
   "execution_count": null,
   "metadata": {},
   "outputs": [],
   "source": [
    "pred_df = pd.DataFrame(predictions)\n",
    "pred_df.head()"
   ]
  },
  {
   "cell_type": "code",
   "execution_count": null,
   "metadata": {},
   "outputs": [],
   "source": [
    "sample['PredictionString']= pred_df['PredictionString']\n"
   ]
  },
  {
   "cell_type": "code",
   "execution_count": null,
   "metadata": {},
   "outputs": [],
   "source": [
    "sample.head()"
   ]
  },
  {
   "cell_type": "code",
   "execution_count": null,
   "metadata": {},
   "outputs": [],
   "source": []
  }
 ],
 "metadata": {
  "kernelspec": {
   "display_name": "Python 3",
   "language": "python",
   "name": "python3"
  },
  "language_info": {
   "codemirror_mode": {
    "name": "ipython",
    "version": 3
   },
   "file_extension": ".py",
   "mimetype": "text/x-python",
   "name": "python",
   "nbconvert_exporter": "python",
   "pygments_lexer": "ipython3",
   "version": "3.8.3"
  }
 },
 "nbformat": 4,
 "nbformat_minor": 4
}
