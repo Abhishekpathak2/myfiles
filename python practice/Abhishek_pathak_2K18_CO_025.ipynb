{
 "cells": [
  {
   "cell_type": "code",
   "execution_count": 8,
   "metadata": {},
   "outputs": [],
   "source": [
    "#1. Find Mean, Median, Mode\n",
    "#2. Check for Null Values if any\n",
    "#3. Sort the dataset in increasing order of height\n",
    "#4. Data Visualization\n",
    "#5. Outlier Detection"
   ]
  },
  {
   "cell_type": "code",
   "execution_count": 31,
   "metadata": {},
   "outputs": [],
   "source": [
    "import matplotlib.pyplot as plt\n",
    "\n",
    "import seaborn as sns\n",
    "import pandas as pd\n",
    "import numpy as np\n",
    "from collections import Counter"
   ]
  },
  {
   "cell_type": "code",
   "execution_count": 2,
   "metadata": {},
   "outputs": [],
   "source": [
    "df = pd.read_csv('/home/abhi/Desktop/weight.csv')"
   ]
  },
  {
   "cell_type": "code",
   "execution_count": 11,
   "metadata": {},
   "outputs": [
    {
     "data": {
      "text/html": [
       "<div>\n",
       "<style scoped>\n",
       "    .dataframe tbody tr th:only-of-type {\n",
       "        vertical-align: middle;\n",
       "    }\n",
       "\n",
       "    .dataframe tbody tr th {\n",
       "        vertical-align: top;\n",
       "    }\n",
       "\n",
       "    .dataframe thead th {\n",
       "        text-align: right;\n",
       "    }\n",
       "</style>\n",
       "<table border=\"1\" class=\"dataframe\">\n",
       "  <thead>\n",
       "    <tr style=\"text-align: right;\">\n",
       "      <th></th>\n",
       "      <th>Gender</th>\n",
       "      <th>Height</th>\n",
       "      <th>Weight</th>\n",
       "    </tr>\n",
       "  </thead>\n",
       "  <tbody>\n",
       "    <tr>\n",
       "      <th>0</th>\n",
       "      <td>Male</td>\n",
       "      <td>73.847017</td>\n",
       "      <td>241.893563</td>\n",
       "    </tr>\n",
       "    <tr>\n",
       "      <th>1</th>\n",
       "      <td>Male</td>\n",
       "      <td>68.781904</td>\n",
       "      <td>162.310473</td>\n",
       "    </tr>\n",
       "    <tr>\n",
       "      <th>2</th>\n",
       "      <td>Male</td>\n",
       "      <td>74.110105</td>\n",
       "      <td>212.740856</td>\n",
       "    </tr>\n",
       "    <tr>\n",
       "      <th>3</th>\n",
       "      <td>Male</td>\n",
       "      <td>71.730978</td>\n",
       "      <td>220.042470</td>\n",
       "    </tr>\n",
       "    <tr>\n",
       "      <th>4</th>\n",
       "      <td>Male</td>\n",
       "      <td>69.881796</td>\n",
       "      <td>206.349801</td>\n",
       "    </tr>\n",
       "  </tbody>\n",
       "</table>\n",
       "</div>"
      ],
      "text/plain": [
       "  Gender     Height      Weight\n",
       "0   Male  73.847017  241.893563\n",
       "1   Male  68.781904  162.310473\n",
       "2   Male  74.110105  212.740856\n",
       "3   Male  71.730978  220.042470\n",
       "4   Male  69.881796  206.349801"
      ]
     },
     "execution_count": 11,
     "metadata": {},
     "output_type": "execute_result"
    }
   ],
   "source": [
    "df.head()\n"
   ]
  },
  {
   "cell_type": "code",
   "execution_count": 10,
   "metadata": {},
   "outputs": [
    {
     "name": "stdout",
     "output_type": "stream",
     "text": [
      "(10000, 3)\n",
      "<bound method DataFrame.info of       Gender     Height      Weight\n",
      "0       Male  73.847017  241.893563\n",
      "1       Male  68.781904  162.310473\n",
      "2       Male  74.110105  212.740856\n",
      "3       Male  71.730978  220.042470\n",
      "4       Male  69.881796  206.349801\n",
      "...      ...        ...         ...\n",
      "9995  Female  66.172652  136.777454\n",
      "9996  Female  67.067155  170.867906\n",
      "9997  Female  63.867992  128.475319\n",
      "9998  Female  69.034243  163.852461\n",
      "9999  Female  61.944246  113.649103\n",
      "\n",
      "[10000 rows x 3 columns]>\n"
     ]
    }
   ],
   "source": [
    "print(df.shape)\n",
    "print(df.info)"
   ]
  },
  {
   "cell_type": "markdown",
   "metadata": {},
   "source": [
    "# mean,median,mode"
   ]
  },
  {
   "cell_type": "code",
   "execution_count": 25,
   "metadata": {},
   "outputs": [
    {
     "name": "stdout",
     "output_type": "stream",
     "text": [
      "Mean / Average is: 66.36755975486587\n"
     ]
    }
   ],
   "source": [
    "#mean of height\n",
    "\n",
    "n = len(df[\"Height\"]) \n",
    "gsum = sum(df[\"Height\"]) \n",
    "mean = gsum / n \n",
    "  \n",
    "print(\"Mean / Average is: \" + str(mean)) "
   ]
  },
  {
   "cell_type": "code",
   "execution_count": 26,
   "metadata": {},
   "outputs": [
    {
     "name": "stdout",
     "output_type": "stream",
     "text": [
      "Mean / Average is: 161.4403568334301\n"
     ]
    }
   ],
   "source": [
    "#mean of Weight\n",
    "n = len(df[\"Weight\"]) \n",
    "gsum = sum(df[\"Weight\"]) \n",
    "mean = gsum / n \n",
    "  \n",
    "print(\"Mean / Average is: \" + str(mean)) "
   ]
  },
  {
   "cell_type": "code",
   "execution_count": null,
   "metadata": {},
   "outputs": [],
   "source": []
  },
  {
   "cell_type": "code",
   "execution_count": 54,
   "metadata": {},
   "outputs": [
    {
     "name": "stdout",
     "output_type": "stream",
     "text": [
      "Median is: 66.31807008\n"
     ]
    }
   ],
   "source": [
    "Height = df.iloc[:,1].values\n",
    "\n",
    "n = len(Height) \n",
    "weight.sort() \n",
    "  \n",
    "if n % 2 == 0: \n",
    "    median1 = Height[n//2] \n",
    "    median2 = Height[n//2 - 1] \n",
    "    median = (median1 + median2)/2\n",
    "else: \n",
    "    median = Height[n//2] \n",
    "print(\"Median is: \" + str(median))"
   ]
  },
  {
   "cell_type": "code",
   "execution_count": 52,
   "metadata": {},
   "outputs": [
    {
     "name": "stdout",
     "output_type": "stream",
     "text": [
      "Median is: 161.2129277\n"
     ]
    }
   ],
   "source": [
    "weight = df.iloc[:,2].values\n",
    "\n",
    "n = len(weight) \n",
    "weight.sort() \n",
    "  \n",
    "if n % 2 == 0: \n",
    "    median1 = weight[n//2] \n",
    "    median2 = weight[n//2 - 1] \n",
    "    median = (median1 + median2)/2\n",
    "else: \n",
    "    median = weight[n//2] \n",
    "print(\"Median is: \" + str(median))"
   ]
  },
  {
   "cell_type": "code",
   "execution_count": 48,
   "metadata": {},
   "outputs": [
    {
     "name": "stdout",
     "output_type": "stream",
     "text": [
      "No mode found\n"
     ]
    }
   ],
   "source": [
    "#Mode\n",
    "n = len(df[\"Weight\"]) \n",
    "  \n",
    "data = Counter(df[\"Weight\"]) \n",
    "get_mode = dict(data) \n",
    "mode = [k for k, v in get_mode.items() if v == max(list(data.values()))] \n",
    "  \n",
    "if len(mode) == n: \n",
    "    get_mode = \"No mode found\"\n",
    "else: \n",
    "    get_mode = \"Mode is / are: \" + ', '.join(map(str, mode)) \n",
    "      \n",
    "print(get_mode)"
   ]
  },
  {
   "cell_type": "code",
   "execution_count": 56,
   "metadata": {},
   "outputs": [
    {
     "name": "stdout",
     "output_type": "stream",
     "text": [
      "No mode found\n"
     ]
    }
   ],
   "source": [
    "from collections import Counter \n",
    "height = df.iloc[:,1].values\n",
    "height\n",
    "\n",
    "n = len(height) \n",
    "  \n",
    "data = Counter(height) \n",
    "get_mode = dict(data) \n",
    "mode = [k for k, v in get_mode.items() if v == max(list(data.values()))] \n",
    "  \n",
    "if len(mode) == n: \n",
    "    get_mode = \"No mode found\"\n",
    "else: \n",
    "    get_mode = \"Mode is / are: \" + ', '.join(map(str, mode)) \n",
    "      \n",
    "print(get_mode)"
   ]
  },
  {
   "cell_type": "code",
   "execution_count": 59,
   "metadata": {},
   "outputs": [
    {
     "name": "stdout",
     "output_type": "stream",
     "text": [
      "Mode of Height is:  ModeResult(mode=array([54.26313333]), count=array([1]))\n",
      "Mode of Weight is:  ModeResult(mode=array([64.70012671]), count=array([1]))\n"
     ]
    }
   ],
   "source": [
    "from scipy import stats\n",
    "mod1= stats.mode(df['Height'])\n",
    "print('Mode of Height is: ', mod1)\n",
    "mod2= stats.mode(df['Weight'])\n",
    "print('Mode of Weight is: ', mod2)"
   ]
  },
  {
   "cell_type": "markdown",
   "metadata": {},
   "source": [
    "# checking null values"
   ]
  },
  {
   "cell_type": "code",
   "execution_count": 6,
   "metadata": {},
   "outputs": [
    {
     "data": {
      "text/plain": [
       "Gender    0\n",
       "Height    0\n",
       "Weight    0\n",
       "dtype: int64"
      ]
     },
     "execution_count": 6,
     "metadata": {},
     "output_type": "execute_result"
    }
   ],
   "source": [
    "df.isnull()\n",
    "df.isnull().sum()"
   ]
  },
  {
   "cell_type": "code",
   "execution_count": 7,
   "metadata": {},
   "outputs": [
    {
     "data": {
      "text/plain": [
       "Gender    False\n",
       "Height    False\n",
       "Weight    False\n",
       "dtype: bool"
      ]
     },
     "execution_count": 7,
     "metadata": {},
     "output_type": "execute_result"
    }
   ],
   "source": [
    "df.isnull().any(axis=0)"
   ]
  },
  {
   "cell_type": "markdown",
   "metadata": {},
   "source": [
    "# Sorting on basis of height"
   ]
  },
  {
   "cell_type": "code",
   "execution_count": 14,
   "metadata": {},
   "outputs": [],
   "source": [
    "df.sort_values([\"Height\"], axis=0, \n",
    "                 ascending=True, inplace=True) "
   ]
  },
  {
   "cell_type": "code",
   "execution_count": 15,
   "metadata": {},
   "outputs": [
    {
     "data": {
      "text/html": [
       "<div>\n",
       "<style scoped>\n",
       "    .dataframe tbody tr th:only-of-type {\n",
       "        vertical-align: middle;\n",
       "    }\n",
       "\n",
       "    .dataframe tbody tr th {\n",
       "        vertical-align: top;\n",
       "    }\n",
       "\n",
       "    .dataframe thead th {\n",
       "        text-align: right;\n",
       "    }\n",
       "</style>\n",
       "<table border=\"1\" class=\"dataframe\">\n",
       "  <thead>\n",
       "    <tr style=\"text-align: right;\">\n",
       "      <th></th>\n",
       "      <th>Gender</th>\n",
       "      <th>Height</th>\n",
       "      <th>Weight</th>\n",
       "    </tr>\n",
       "  </thead>\n",
       "  <tbody>\n",
       "    <tr>\n",
       "      <th>9285</th>\n",
       "      <td>Female</td>\n",
       "      <td>54.263133</td>\n",
       "      <td>64.700127</td>\n",
       "    </tr>\n",
       "    <tr>\n",
       "      <th>6624</th>\n",
       "      <td>Female</td>\n",
       "      <td>54.616858</td>\n",
       "      <td>71.393749</td>\n",
       "    </tr>\n",
       "    <tr>\n",
       "      <th>7294</th>\n",
       "      <td>Female</td>\n",
       "      <td>54.873728</td>\n",
       "      <td>78.606670</td>\n",
       "    </tr>\n",
       "    <tr>\n",
       "      <th>7617</th>\n",
       "      <td>Female</td>\n",
       "      <td>55.148557</td>\n",
       "      <td>88.812412</td>\n",
       "    </tr>\n",
       "    <tr>\n",
       "      <th>5345</th>\n",
       "      <td>Female</td>\n",
       "      <td>55.336492</td>\n",
       "      <td>88.366583</td>\n",
       "    </tr>\n",
       "    <tr>\n",
       "      <th>...</th>\n",
       "      <td>...</td>\n",
       "      <td>...</td>\n",
       "      <td>...</td>\n",
       "    </tr>\n",
       "    <tr>\n",
       "      <th>994</th>\n",
       "      <td>Male</td>\n",
       "      <td>78.095867</td>\n",
       "      <td>255.690835</td>\n",
       "    </tr>\n",
       "    <tr>\n",
       "      <th>1317</th>\n",
       "      <td>Male</td>\n",
       "      <td>78.462053</td>\n",
       "      <td>227.342565</td>\n",
       "    </tr>\n",
       "    <tr>\n",
       "      <th>3285</th>\n",
       "      <td>Male</td>\n",
       "      <td>78.528210</td>\n",
       "      <td>253.889004</td>\n",
       "    </tr>\n",
       "    <tr>\n",
       "      <th>3757</th>\n",
       "      <td>Male</td>\n",
       "      <td>78.621374</td>\n",
       "      <td>245.733783</td>\n",
       "    </tr>\n",
       "    <tr>\n",
       "      <th>2014</th>\n",
       "      <td>Male</td>\n",
       "      <td>78.998742</td>\n",
       "      <td>269.989698</td>\n",
       "    </tr>\n",
       "  </tbody>\n",
       "</table>\n",
       "<p>10000 rows × 3 columns</p>\n",
       "</div>"
      ],
      "text/plain": [
       "      Gender     Height      Weight\n",
       "9285  Female  54.263133   64.700127\n",
       "6624  Female  54.616858   71.393749\n",
       "7294  Female  54.873728   78.606670\n",
       "7617  Female  55.148557   88.812412\n",
       "5345  Female  55.336492   88.366583\n",
       "...      ...        ...         ...\n",
       "994     Male  78.095867  255.690835\n",
       "1317    Male  78.462053  227.342565\n",
       "3285    Male  78.528210  253.889004\n",
       "3757    Male  78.621374  245.733783\n",
       "2014    Male  78.998742  269.989698\n",
       "\n",
       "[10000 rows x 3 columns]"
      ]
     },
     "execution_count": 15,
     "metadata": {},
     "output_type": "execute_result"
    }
   ],
   "source": [
    "df"
   ]
  },
  {
   "cell_type": "markdown",
   "metadata": {},
   "source": [
    "#plotting\n",
    "# visualisation"
   ]
  },
  {
   "cell_type": "code",
   "execution_count": 42,
   "metadata": {},
   "outputs": [
    {
     "data": {
      "image/png": "[encoded data removed]",
      "text/plain": [
       "<Figure size 1584x576 with 1 Axes>"
      ]
     },
     "metadata": {
      "needs_background": "light"
     },
     "output_type": "display_data"
    }
   ],
   "source": [
    "plt.figure(figsize=(22,8))\n",
    "sns.distplot(df['Height'], color = 'purple')\n",
    "plt.show()"
   ]
  },
  {
   "cell_type": "code",
   "execution_count": 41,
   "metadata": {},
   "outputs": [
    {
     "data": {
      "image/png": "[encoded data removed]",
      "text/plain": [
       "<Figure size 1296x720 with 1 Axes>"
      ]
     },
     "metadata": {
      "needs_background": "light"
     },
     "output_type": "display_data"
    }
   ],
   "source": [
    "plt.figure(figsize=(18,10))\n",
    "plt.scatter(df['Height'],df['Weight'], color ='purple')\n",
    "plt.title(\"Line Graph\")\n",
    "plt.xlabel(\"Row Indexes\")\n",
    "plt.ylabel(\"AGE\")\n",
    "plt.show()\n"
   ]
  },
  {
   "cell_type": "code",
   "execution_count": 44,
   "metadata": {
    "scrolled": true
   },
   "outputs": [
    {
     "data": {
      "image/png": "[encoded data removed]",
      "text/plain": [
       "<Figure size 1584x576 with 1 Axes>"
      ]
     },
     "metadata": {
      "needs_background": "light"
     },
     "output_type": "display_data"
    }
   ],
   "source": [
    "plt.figure(figsize=(22,8))\n",
    "sns.distplot(df['Weight'], color = 'purple')\n",
    "plt.show()"
   ]
  },
  {
   "cell_type": "markdown",
   "metadata": {},
   "source": [
    "# outlier detection"
   ]
  },
  {
   "cell_type": "code",
   "execution_count": 19,
   "metadata": {},
   "outputs": [
    {
     "data": {
      "image/png": "[encoded data removed]",
      "text/plain": [
       "<Figure size 864x576 with 1 Axes>"
      ]
     },
     "metadata": {
      "needs_background": "light"
     },
     "output_type": "display_data"
    }
   ],
   "source": [
    "plt.figure(figsize=(12,8))\n",
    "sns.boxplot(data = df, palette='magma')\n",
    "plt.show()"
   ]
  },
  {
   "cell_type": "code",
   "execution_count": 57,
   "metadata": {},
   "outputs": [
    {
     "name": "stdout",
     "output_type": "stream",
     "text": [
      "\n",
      "Outliers For Height for Male\n",
      "\n",
      "     Gender     Height\n",
      "3816   Male  76.719985\n",
      "4701   Male  76.732446\n",
      "2318   Male  76.806344\n",
      "2623   Male  76.842679\n",
      "4331   Male  76.848761\n",
      "4275   Male  76.866855\n",
      "3669   Male  77.008336\n",
      "3909   Male  77.067355\n",
      "4297   Male  77.100872\n",
      "912    Male  77.160801\n",
      "1922   Male  77.446620\n",
      "2070   Male  77.465569\n",
      "4569   Male  77.547186\n",
      "994    Male  78.095867\n",
      "1317   Male  78.462053\n",
      "3285   Male  78.528210\n",
      "3757   Male  78.621374\n",
      "2014   Male  78.998742\n",
      "     Gender     Height\n",
      "4794   Male  58.406905\n",
      "2334   Male  59.380650\n",
      "4637   Male  59.868078\n",
      "2191   Male  59.938650\n",
      "1942   Male  59.981865\n",
      "3020   Male  60.217019\n",
      "4170   Male  60.243718\n",
      "2974   Male  60.267190\n",
      "2527   Male  60.269108\n",
      "1238   Male  60.363312\n",
      "4980   Male  60.614115\n",
      "551    Male  60.679817\n",
      "3332   Male  60.721080\n",
      "426    Male  60.748118\n",
      "1577   Male  60.798886\n",
      "1442   Male  60.820271\n",
      "2925   Male  60.935740\n",
      "2959   Male  60.936236\n",
      "1715   Male  60.966723\n",
      "4324   Male  60.972032\n",
      "2500   Male  61.074487\n",
      "4402   Male  61.090747\n",
      "936    Male  61.121829\n",
      "2873   Male  61.136475\n",
      "2324   Male  61.226829\n",
      "1339   Male  61.310798\n",
      "3547   Male  61.314525\n",
      "3265   Male  61.328502\n",
      "\n",
      "Outliers For Weight for Male\n",
      "\n",
      "     Gender      Weight\n",
      "4275   Male  247.386741\n",
      "3669   Male  248.848873\n",
      "3909   Male  249.110242\n",
      "4297   Male  249.565628\n",
      "912    Male  249.946283\n",
      "1922   Male  250.317151\n",
      "2070   Male  251.425050\n",
      "4569   Male  252.556689\n",
      "994    Male  253.889004\n",
      "1317   Male  254.209073\n",
      "3285   Male  255.690835\n",
      "3757   Male  255.863326\n",
      "2014   Male  269.989698\n",
      "     Gender      Weight\n",
      "4794   Male   98.745038\n",
      "2334   Male  104.698454\n",
      "4637   Male  108.143759\n",
      "2191   Male  108.708031\n",
      "1942   Male  109.096956\n",
      "3020   Male  110.918226\n",
      "4170   Male  111.077754\n",
      "2974   Male  111.245008\n",
      "2527   Male  111.260036\n",
      "1238   Male  111.853465\n",
      "4980   Male  113.651111\n",
      "551    Male  114.306428\n",
      "3332   Male  114.674279\n",
      "426    Male  114.831030\n",
      "1577   Male  115.175753\n",
      "1442   Male  115.416771\n",
      "2925   Male  116.423510\n",
      "2959   Male  116.430075\n",
      "1715   Male  116.764230\n",
      "4324   Male  116.814812\n",
      "2500   Male  117.305006\n",
      "4402   Male  117.440811\n",
      "936    Male  117.673179\n",
      "2873   Male  117.803842\n",
      "2324   Male  118.713809\n",
      "1339   Male  119.066227\n",
      "3547   Male  119.164743\n",
      "3265   Male  119.203379\n",
      "2333   Male  120.184683\n",
      "3996   Male  120.271965\n",
      "268    Male  120.382573\n",
      "3920   Male  120.640467\n",
      "3059   Male  121.338323\n",
      "3172   Male  121.538248\n",
      "2468   Male  121.888637\n",
      "2804   Male  121.889609\n",
      "2755   Male  122.322000\n",
      "565    Male  122.442863\n",
      "1902   Male  122.507463\n",
      "4818   Male  122.533501\n",
      "644    Male  122.543726\n",
      "1915   Male  122.709384\n",
      "4678   Male  123.036176\n",
      "\n",
      "Outliers For Height for Female\n",
      "\n",
      "      Gender     Height\n",
      "8464  Female  71.070451\n",
      "9424  Female  71.122793\n",
      "7924  Female  71.277507\n",
      "6116  Female  71.438947\n",
      "8135  Female  71.552205\n",
      "5103  Female  71.991257\n",
      "8635  Female  72.088712\n",
      "7856  Female  72.264748\n",
      "7162  Female  72.429771\n",
      "7311  Female  73.389586\n",
      "      Gender     Height\n",
      "9285  Female  54.263133\n",
      "6624  Female  54.616858\n",
      "7294  Female  54.873728\n",
      "7617  Female  55.148557\n",
      "5345  Female  55.336492\n",
      "8692  Female  55.651892\n",
      "5360  Female  55.668202\n",
      "6625  Female  55.739737\n",
      "6176  Female  55.851214\n",
      "9825  Female  55.979198\n",
      "6834  Female  56.066636\n",
      "5732  Female  56.078700\n",
      "6908  Female  56.098246\n",
      "8003  Female  56.105370\n",
      "5740  Female  56.108902\n",
      "5074  Female  56.159458\n",
      "8241  Female  56.167299\n",
      "\n",
      "Outliers For Weight for Female\n",
      "\n",
      "      Gender      Weight\n",
      "8748  Female  198.321828\n",
      "5092  Female  198.388265\n",
      "7400  Female  198.622990\n",
      "9846  Female  198.641636\n",
      "8732  Female  199.039568\n",
      "7527  Female  199.168830\n",
      "5976  Female  199.827758\n",
      "8736  Female  199.946155\n",
      "8464  Female  200.755320\n",
      "9424  Female  201.205101\n",
      "7924  Female  202.137160\n",
      "6116  Female  203.245030\n",
      "8135  Female  204.181096\n",
      "5103  Female  207.575178\n",
      "8635  Female  208.068199\n",
      "7856  Female  209.526500\n",
      "7162  Female  210.636524\n",
      "7311  Female  216.946547\n",
      "      Gender     Weight\n",
      "9285  Female  64.700127\n",
      "6624  Female  68.982530\n",
      "7294  Female  71.393749\n",
      "7617  Female  72.750145\n",
      "5345  Female  77.523774\n",
      "8692  Female  77.898559\n",
      "5360  Female  78.606670\n"
     ]
    },
    {
     "name": "stderr",
     "output_type": "stream",
     "text": [
      "<ipython-input-57-821a9b7956ea>:9: UserWarning: Boolean Series key will be reindexed to match DataFrame index.\n",
      "  print(df[df['Gender'] == j][df[i] > upper][['Gender', i]])\n",
      "<ipython-input-57-821a9b7956ea>:10: UserWarning: Boolean Series key will be reindexed to match DataFrame index.\n",
      "  print(df[df['Gender'] == j][df[i] < lower][['Gender', i]])\n",
      "<ipython-input-57-821a9b7956ea>:9: UserWarning: Boolean Series key will be reindexed to match DataFrame index.\n",
      "  print(df[df['Gender'] == j][df[i] > upper][['Gender', i]])\n",
      "<ipython-input-57-821a9b7956ea>:10: UserWarning: Boolean Series key will be reindexed to match DataFrame index.\n",
      "  print(df[df['Gender'] == j][df[i] < lower][['Gender', i]])\n",
      "<ipython-input-57-821a9b7956ea>:9: UserWarning: Boolean Series key will be reindexed to match DataFrame index.\n",
      "  print(df[df['Gender'] == j][df[i] > upper][['Gender', i]])\n",
      "<ipython-input-57-821a9b7956ea>:10: UserWarning: Boolean Series key will be reindexed to match DataFrame index.\n",
      "  print(df[df['Gender'] == j][df[i] < lower][['Gender', i]])\n",
      "<ipython-input-57-821a9b7956ea>:9: UserWarning: Boolean Series key will be reindexed to match DataFrame index.\n",
      "  print(df[df['Gender'] == j][df[i] > upper][['Gender', i]])\n",
      "<ipython-input-57-821a9b7956ea>:10: UserWarning: Boolean Series key will be reindexed to match DataFrame index.\n",
      "  print(df[df['Gender'] == j][df[i] < lower][['Gender', i]])\n"
     ]
    }
   ],
   "source": [
    "\n",
    "\n",
    "for j in ['Male', 'Female']:\n",
    "    for i in ['Height', 'Weight']:\n",
    "        Q1 = df[df['Gender'] == j][i].quantile(0.25)\n",
    "        Q3 = df[df['Gender'] == j][i].quantile(0.75)\n",
    "        iqr = Q3 - Q1\n",
    "        lower = Q1 - (1.5 * iqr)\n",
    "        upper = Q3 + (1.5 * iqr)\n",
    "        print('\\nOutliers For ' + i + ' for ' + j + '\\n')\n",
    "        print(df[df['Gender'] == j][df[i] > upper][['Gender', i]])\n",
    "        print(df[df['Gender'] == j][df[i] < lower][['Gender', i]])"
   ]
  },
  {
   "cell_type": "code",
   "execution_count": null,
   "metadata": {},
   "outputs": [],
   "source": []
  }
 ],
 "metadata": {
  "kernelspec": {
   "display_name": "Python 3",
   "language": "python",
   "name": "python3"
  },
  "language_info": {
   "codemirror_mode": {
    "name": "ipython",
    "version": 3
   },
   "file_extension": ".py",
   "mimetype": "text/x-python",
   "name": "python",
   "nbconvert_exporter": "python",
   "pygments_lexer": "ipython3",
   "version": "3.8.3"
  }
 },
 "nbformat": 4,
 "nbformat_minor": 4
}
